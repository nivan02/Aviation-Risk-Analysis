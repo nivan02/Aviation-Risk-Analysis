{
 "cells": [
  {
   "cell_type": "markdown",
   "metadata": {},
   "source": [
    "# Analysis Approach\n",
    "### Yellow Group 2: Aman, Gabriel Andaya, Nivan Vora, Menji Wei\n",
    "Step 1: Model Setup\n",
    "Define each insurance plan’s premium, deductible, and coverage limits in the simulation.\n",
    "Incorporate the crash probability into the model based on fleet size, flight frequency, and annual operations.\n",
    "Calculate expected annual losses and project out over the five-year term."
   ]
  },
  {
   "cell_type": "code",
   "execution_count": 1,
   "metadata": {},
   "outputs": [],
   "source": [
    "import numpy as np\n",
    "import matplotlib.pyplot as plt\n",
    "import seaborn as sns\n",
    "import pandas as pd\n",
    "import matplotlib.pyplot as plt\n",
    "\n",
    "# Define the fleet and insurance policy details\n",
    "fleet_info = {\n",
    "    'Boeing 757': {'count': 47, 'replacement_cost': 56.4, 'flights_per_day': 6},\n",
    "    'Airbus A340-200': {'count': 15, 'replacement_cost': 78.9, 'flights_per_day': 2.25},\n",
    "    'Airbus A340-300': {'count': 24, 'replacement_cost': 88.5, 'flights_per_day': 2}\n",
    "}\n",
    "\n",
    "# Define insurance plan parameters\n",
    "insurance_plans = {\n",
    "    'RCNC1': {'premium_rate': 0.0045, 'deductible': 0.10, 'rebate_rate': 0.20},\n",
    "    'RCNC2': {'fixed_premium_rate': 0.001, 'variable_cap_rate': 0.01, 'loss_coverage': 0.90},\n",
    "    'CTC': {'annual_premium': 13, 'coverage': 0.90, 'coverage_limit': 80},\n",
    "    'HIC': {'premium_rate': 0.00165, 'loss_threshold': 24, 'rebate_rate': 0.035}\n",
    "}"
   ]
  },
  {
   "cell_type": "markdown",
   "metadata": {},
   "source": [
    "Step 2: Simulate Annual Costs for Each Plan\n",
    "Crash Probability Simulation: Use Monte Carlo simulations to account for random crash events, factoring in Ontario Gateway’s safer-than-average fleet.\n",
    "Loss Calculation: For each simulated year, determine potential claims based on the number of accidents, replacement cost, and deductible structure of each policy."
   ]
  },
  {
   "cell_type": "code",
   "execution_count": 2,
   "metadata": {},
   "outputs": [],
   "source": [
    "# Simulation parameters\n",
    "years = 5\n",
    "flight_days_per_year = 342\n",
    "crash_rate = 1 / 5000000\n",
    "# Assume 25% safer fleet\n",
    "safety_factor = 0.25  \n",
    "adjusted_crash_rate = crash_rate * (1 - safety_factor)\n",
    "simulation_runs = 100000\n",
    "\n"
   ]
  },
  {
   "cell_type": "markdown",
   "metadata": {},
   "source": [
    "Step 3: Evaluate Financial Impact Under Constraints\n",
    "Maximum Loss Limitation: Calculate the probability that the total loss exceeds $37 million, ensuring the policy aligns with Ontario Gateway’s $41 million liability threshold.\n",
    "Cost Minimization: Compare the overall premium and out-of-pocket expenses across all five years for each policy, accounting for rebates and variable costs."
   ]
  },
  {
   "cell_type": "code",
   "execution_count": 3,
   "metadata": {},
   "outputs": [],
   "source": [
    "# Function to calculate annual premium for each plan\n",
    "def calculate_premium(plan, fleet_value, losses, year):\n",
    "    if plan == 'RCNC1':\n",
    "        premium = fleet_value * insurance_plans['RCNC1']['premium_rate']\n",
    "        cost = min(losses * (1 - insurance_plans['RCNC1']['deductible']), fleet_value)\n",
    "        return premium, cost\n",
    "    elif plan == 'RCNC2':\n",
    "        fixed_premium = fleet_value * insurance_plans['RCNC2']['fixed_premium_rate']\n",
    "        variable_premium = min(losses * insurance_plans['RCNC2']['loss_coverage'],\n",
    "                               fleet_value * insurance_plans['RCNC2']['variable_cap_rate'])\n",
    "        return fixed_premium + variable_premium, variable_premium\n",
    "    elif plan == 'CTC':\n",
    "        premium = insurance_plans['CTC']['annual_premium']\n",
    "        cost = min(losses * insurance_plans['CTC']['coverage'], insurance_plans['CTC']['coverage_limit'])\n",
    "        return premium, cost\n",
    "    elif plan == 'HIC':\n",
    "        premium = fleet_value * insurance_plans['HIC']['premium_rate']\n",
    "        cost = max(0, losses - insurance_plans['HIC']['loss_threshold'])\n",
    "        return premium, cost\n",
    "\n",
    "\n"
   ]
  },
  {
   "cell_type": "markdown",
   "metadata": {},
   "source": [
    "Step 4: Sensitivity Analysis (Part c)\n",
    "Modify the crash rate to reflect a 25% safer-than-average probability.\n",
    "Re-run simulations to observe how this lower crash probability impacts expected costs and coverage needs under each insurance plan.\n",
    "Evaluate the robustness of each policy under this adjusted probability to inform the final decision.\n",
    "\n",
    "Step 5: Final Recommendation (Part d)\n",
    "Prepare a data-backed recommendation based on total projected costs, risk coverage adequacy, and Ontario Gateway’s financial goals.\n",
    "Detail the decision rationale with an executive summary, outlining risk considerations, the five-year outlook, and why the chosen policy is the optimal solution for Ontario Gateway."
   ]
  },
  {
   "cell_type": "code",
   "execution_count": 4,
   "metadata": {},
   "outputs": [
    {
     "name": "stdout",
     "output_type": "stream",
     "text": [
      "Average Costs over 5 Years per Insurance Plan:\n",
      "CTC       24.885721\n",
      "RCNC2     27.525441\n",
      "HIC      119.753375\n",
      "RCNC1    134.475484\n",
      "dtype: float64\n",
      "\n",
      "Sensitivity Analysis (25% Safer Fleet):\n",
      "CTC       18.664291\n",
      "RCNC2     20.644080\n",
      "HIC       89.815031\n",
      "RCNC1    100.856613\n",
      "dtype: float64\n"
     ]
    }
   ],
   "source": [
    "# Calculate fleet value and annual flights\n",
    "fleet_value = sum(info['count'] * info['replacement_cost'] for info in fleet_info.values())\n",
    "annual_flights = sum(info['count'] * info['flights_per_day'] * flight_days_per_year for info in fleet_info.values())\n",
    "\n",
    "# Monte Carlo Simulation for each insurance plan\n",
    "results = {plan: [] for plan in insurance_plans}\n",
    "np.random.seed(42)  # For reproducibility\n",
    "\n",
    "for run in range(simulation_runs):\n",
    "    total_losses = 0\n",
    "    for year in range(years):\n",
    "        # Calculate expected crash occurrences\n",
    "        crashes = np.random.binomial(annual_flights, adjusted_crash_rate)\n",
    "        losses = crashes * fleet_value / len(fleet_info)\n",
    "        \n",
    "        # Estimate incidental damage costs (uniform distribution)\n",
    "        incidental_cost = np.random.uniform(1, 5)\n",
    "        total_losses += losses + incidental_cost\n",
    "\n",
    "        # Evaluate each plan's costs and coverage\n",
    "        for plan in insurance_plans:\n",
    "            premium, covered_loss = calculate_premium(plan, fleet_value, total_losses, year)\n",
    "            total_cost = premium + covered_loss\n",
    "            results[plan].append(total_cost)\n",
    "\n",
    "# Convert results into a DataFrame for analysis\n",
    "results_df = pd.DataFrame({plan: np.array(costs) for plan, costs in results.items()})\n",
    "average_costs = results_df.mean()  # Calculate the average cost of each plan\n",
    "average_costs.sort_values(inplace=True)\n",
    "\n",
    "# Display Results\n",
    "print(\"Average Costs over 5 Years per Insurance Plan:\")\n",
    "print(average_costs)\n",
    "\n",
    "# Sensitivity Analysis\n",
    "print(\"\\nSensitivity Analysis (25% Safer Fleet):\")\n",
    "sensitivity_df = results_df * (1 - safety_factor)\n",
    "sensitivity_costs = sensitivity_df.mean()\n",
    "sensitivity_costs.sort_values(inplace=True)\n",
    "print(sensitivity_costs)"
   ]
  },
  {
   "cell_type": "code",
   "execution_count": 5,
   "metadata": {},
   "outputs": [
    {
     "data": {
      "image/png": "[encoded data removed]",
      "text/plain": [
       "<Figure size 1000x600 with 1 Axes>"
      ]
     },
     "metadata": {},
     "output_type": "display_data"
    }
   ],
   "source": [
    "# Visualization of results\n",
    "plt.figure(figsize=(10, 6))\n",
    "sns.barplot(x=average_costs.index, y=average_costs.values)\n",
    "plt.title('Five-Year Average Total Cost of Each Insurance Plan')\n",
    "plt.xlabel('Insurance Plan')\n",
    "plt.ylabel('Average Cost (in millions)')\n",
    "plt.xticks(rotation=45)\n",
    "plt.tight_layout()\n",
    "plt.show()\n"
   ]
  },
  {
   "cell_type": "markdown",
   "metadata": {},
   "source": [
    "\n",
    "In scenarios with low to moderate accident probabilities (both baseline and with a 25% safety improvement), CTC emerges as a strong option. Its fixed annual premium of $13 million ensures consistent costs, remaining largely unaffected by minor changes in accident risk.\n",
    "\n",
    "Given Ontario Gateway’s current situation, if the company adopts a moderately optimistic outlook on accident probabilities over the next five years—assuming no significant increase—the CTC policy is recommended. It offers lower costs and high stability across both baseline and safer scenarios."
   ]
  },
  {
   "cell_type": "markdown",
   "metadata": {},
   "source": []
  }
 ],
 "metadata": {
  "kernelspec": {
   "display_name": "base",
   "language": "python",
   "name": "python3"
  },
  "language_info": {
   "codemirror_mode": {
    "name": "ipython",
    "version": 3
   },
   "file_extension": ".py",
   "mimetype": "text/x-python",
   "name": "python",
   "nbconvert_exporter": "python",
   "pygments_lexer": "ipython3",
   "version": "3.11.9"
  }
 },
 "nbformat": 4,
 "nbformat_minor": 2
}
